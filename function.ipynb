{
 "cells": [
  {
   "cell_type": "markdown",
   "id": "3d9230bd-0b14-4b6a-8c2f-32b35d489193",
   "metadata": {},
   "source": [
    "### We need to start with expression \"def\""
   ]
  },
  {
   "cell_type": "code",
   "execution_count": 7,
   "id": "3fdb07de-f06b-4bb2-95ab-d991f631b1bb",
   "metadata": {
    "tags": []
   },
   "outputs": [],
   "source": [
    "def sum(a,b):return a+b"
   ]
  },
  {
   "cell_type": "markdown",
   "id": "3ee5ac98-6452-4356-81e5-45626bf17a5b",
   "metadata": {},
   "source": [
    "### If we want to use sum function we need to use function's name and insert, required arguments in bracets."
   ]
  },
  {
   "cell_type": "code",
   "execution_count": 8,
   "id": "41b9d2af-c685-45dd-b9a2-2163177e0d48",
   "metadata": {
    "tags": []
   },
   "outputs": [
    {
     "data": {
      "text/plain": [
       "5"
      ]
     },
     "execution_count": 8,
     "metadata": {},
     "output_type": "execute_result"
    }
   ],
   "source": [
    "sum(2,3)"
   ]
  },
  {
   "cell_type": "code",
   "execution_count": null,
   "id": "49281ab5-7516-4c3e-a22b-9f538d81aa08",
   "metadata": {},
   "outputs": [],
   "source": []
  }
 ],
 "metadata": {
  "kernelspec": {
   "display_name": "Python 3 (ipykernel)",
   "language": "python",
   "name": "python3"
  },
  "language_info": {
   "codemirror_mode": {
    "name": "ipython",
    "version": 3
   },
   "file_extension": ".py",
   "mimetype": "text/x-python",
   "name": "python",
   "nbconvert_exporter": "python",
   "pygments_lexer": "ipython3",
   "version": "3.11.2"
  }
 },
 "nbformat": 4,
 "nbformat_minor": 5
}
